{
 "cells": [
  {
   "cell_type": "markdown",
   "id": "3a8c0689-c61e-4374-a599-885398257ec2",
   "metadata": {},
   "source": [
    "## Statistics basic assignment 1"
   ]
  },
  {
   "cell_type": "code",
   "execution_count": null,
   "id": "3d019235-bb06-42df-a0ae-38d1bb947f8d",
   "metadata": {},
   "outputs": [],
   "source": [
    "1. What is statistics.\n",
    "ans :- Statistics is the science of the Collecting , Oraganizing and Analyzing of the Data."
   ]
  },
  {
   "cell_type": "code",
   "execution_count": null,
   "id": "8e5bf774-1ffa-46ab-aef5-4af5d992d010",
   "metadata": {},
   "outputs": [],
   "source": [
    "2. Define the different types of statistics and give an example of when each type might be used.\n",
    "ans :- There are two types of statistics. 1. Descriptive Statistics and 2. Inferntail Statistics.\n",
    "       1. Descriptive Statistics :- It is used to organizing and summarizing data.\n",
    "       ex. 1. A students has marksheet with 6 subject marks. find its average result.\n",
    "           Marks are :- 90 , 87 , 93 , 96 , 85 , 99\n",
    "            The average of marks is : 90+87+93+96+85+99=Total marks/6\n",
    "            output is 91.66\n",
    "            \n",
    "        2. Inferential Statistics :- It consist of using data you have to measured to form conclusion.\n",
    "        ex. 1.There are 70 students in a college. find the students who are eligible for pan card. "
   ]
  },
  {
   "cell_type": "code",
   "execution_count": 1,
   "id": "65846cf7-5655-4f56-b9fb-a3e48034d2b3",
   "metadata": {},
   "outputs": [
    {
     "data": {
      "text/plain": [
       "550"
      ]
     },
     "execution_count": 1,
     "metadata": {},
     "output_type": "execute_result"
    }
   ],
   "source": [
    "90+87+93+96+85+99"
   ]
  },
  {
   "cell_type": "code",
   "execution_count": 2,
   "id": "9b75a413-b3e3-4bcb-8ad0-1941fc98b4f2",
   "metadata": {},
   "outputs": [
    {
     "data": {
      "text/plain": [
       "91.66666666666667"
      ]
     },
     "execution_count": 2,
     "metadata": {},
     "output_type": "execute_result"
    }
   ],
   "source": [
    "550/6"
   ]
  },
  {
   "cell_type": "code",
   "execution_count": null,
   "id": "25038786-dfca-4f21-84c2-72350185dde6",
   "metadata": {},
   "outputs": [],
   "source": [
    "3. What are the different types of data and how do they differ from each other?Provide an example \n",
    "   of each type of data.\n",
    "ans :- Data is distributed in two types. 1. Quantitative Data and 2. Qualitative Data.\n",
    "       1. Quantitative Data :- It consist of numerical data . It is subdivide in two types\n",
    "          (A).Discrete data :-It consist the whole no of data.\n",
    "          (B).Continous data :- It consist of any numerical value of data.\n",
    "            \n",
    "       2. Qualitative Data :- It consist of categorical data. It is subdivide in two types\n",
    "          (A).Nominal data :- The data which cannot be ranked or cannot be compared.\n",
    "          (B).Ordinal data :- The data which will ranked on basis of inner data."
   ]
  },
  {
   "cell_type": "code",
   "execution_count": null,
   "id": "7c56f792-4457-4734-b728-2456afc411e6",
   "metadata": {},
   "outputs": [],
   "source": [
    "4. Categories the following dataset with respect to quantitative and qualitative data type.\n",
    "  (a). Grading in exam : A+,A,B+,B,C+,C,D,E\n",
    "  ans :- It is qualitative data type.\n",
    "  (b). Colour of mangoes : yellow,green,orange,red\n",
    "  ans :- It is qualitative data type.\n",
    "  (c). Height data of class : [178.9,179,179.5,176,177.2,178.3,175.8,..]\n",
    "  ans :- It is quantative data type.\n",
    "  (d). Number of Mangoes exported by a farm : [500,600,478,672,..]\n",
    "  ans :- It is quantative data type."
   ]
  },
  {
   "cell_type": "code",
   "execution_count": null,
   "id": "3df7a1f2-b517-4f8e-8efe-629ca7b30562",
   "metadata": {},
   "outputs": [],
   "source": [
    "5. Explain the concept of levels of measurement and give an example of a varaible for each level.\n",
    "ans :- The level of measurement is the process of measuring or performing the operation on data on basis\n",
    "       of the types of scale measurement.the data is distributed in different types to meaure and each can\n",
    "       be measure according to scale measurement types.\n",
    "    The levels of measurements\n",
    "    1.Nominal Scale Data :- It measures the qualitative types of data.Order does not matter.\n",
    "    2.Ordinal Scale Data :- It also measures the quantitaive types of data.order matter.Different cannot be meaured.\n",
    "    3.Interval Scale Data :- It measures any type of data.order matters.Different can be measured.ratio cannot\n",
    "                              be measured.\n",
    "    4.Ration Scale Data :- It also measures any type of data.differents are measureble.ratio can be measured.\n",
    "                           conatins a '0' starting point."
   ]
  },
  {
   "cell_type": "code",
   "execution_count": null,
   "id": "14b5e017-1fbb-4594-9cac-54b772cdb92d",
   "metadata": {},
   "outputs": [],
   "source": [
    "6. Why it is important to understand the level of measurement when analyzing data?provide an example\n",
    "   to illustrate your answer.\n",
    "ans :- The level of measurement perform the very important factor when it comes to analyzing the data\n",
    "       or performing any opertaion on the data. The data could be any type the different files cntains\n",
    "       the different types of data . The data distribution or performing the operation on basis of what\n",
    "       type of data is. The data should be measure properly and define according its types. The operations\n",
    "       get performing in easy manner if the data is divided according what functionality he contains.\n",
    "        "
   ]
  },
  {
   "cell_type": "code",
   "execution_count": null,
   "id": "9f8776a8-7384-4b1a-80a6-b1a89ea23d0f",
   "metadata": {},
   "outputs": [],
   "source": [
    "7. How Nominal data type is diifferent from the Ordinal data type.\n",
    "ans :- The nominal scale measurement perform the operation which the rank or order doesn't matter.\n",
    "       The ordinal scale measurement perform the operation which depend on rank."
   ]
  },
  {
   "cell_type": "code",
   "execution_count": null,
   "id": "242f1068-dd8c-4d0f-ac42-1d298099f10f",
   "metadata": {},
   "outputs": [],
   "source": [
    "8. Which type of plot can be used to display data in terms of range?\n",
    "ans :- Scatter plot is used to diplay data in terms of range."
   ]
  },
  {
   "cell_type": "code",
   "execution_count": null,
   "id": "5f2ce69b-e5dd-49b7-9260-8ef85e63f57e",
   "metadata": {},
   "outputs": [],
   "source": [
    "9. Describe the difference between Descriptive Statistics and Inferential Statistics.Give an example of each type \n",
    "   of Statistics and explain how they are used.\n",
    "ans :- Descriptive Statistic.\n",
    "       -It gives information about raw data which describes the data in some manner.\n",
    "       -It helps in organizing, analyzing, and to present data in a meaningful manner. \n",
    "        -It is used to describe a situation.\n",
    "        -It explains already known data and is limited to a sample or population having a small size.\n",
    "        \n",
    "        Inferential Statistics.\n",
    "        -It makes inferences about the population using data drawn from the population.\n",
    "        -It allows us to compare data, and make hypotheses and predictions.\n",
    "        -It is used to explain the chance of occurrence of an event.\n",
    "        -It attempts to reach the conclusion about the population."
   ]
  },
  {
   "cell_type": "code",
   "execution_count": null,
   "id": "0cda3337-c195-40df-98f9-f08d0ff15faf",
   "metadata": {},
   "outputs": [],
   "source": [
    "10. What are some common measures of central tendency and variability used in statistics?Explain  how each measure can \n",
    "    be used described a dataset.\n",
    "Ans :- The common measures of central tendency and variablity used in statistics are:\n",
    "    (1). Mean :- It is used to find the average amount of dataset.\n",
    "    (2). Median :- It os used to find the mid value of dataset to overcome the effects of outlet.\n",
    "    (3). Mode :- It is used to find the maximum range value of the dataset.\n",
    "    (4). Standard Deviation :- The SD is used to measure the amount of variation by random variable \n",
    "                               expected to mean.\n",
    "    (5). Varaiance :- variance is a measure of how far a set of data points are spread out from their mean value."
   ]
  }
 ],
 "metadata": {
  "kernelspec": {
   "display_name": "Python 3 (ipykernel)",
   "language": "python",
   "name": "python3"
  },
  "language_info": {
   "codemirror_mode": {
    "name": "ipython",
    "version": 3
   },
   "file_extension": ".py",
   "mimetype": "text/x-python",
   "name": "python",
   "nbconvert_exporter": "python",
   "pygments_lexer": "ipython3",
   "version": "3.10.8"
  }
 },
 "nbformat": 4,
 "nbformat_minor": 5
}
