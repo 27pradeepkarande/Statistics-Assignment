{
 "cells": [
  {
   "cell_type": "markdown",
   "id": "798fdbc7-2af7-48b6-8cdf-00a7518dd39b",
   "metadata": {
    "tags": []
   },
   "source": [
    "## Basic Statistics Assignment 2"
   ]
  },
  {
   "cell_type": "code",
   "execution_count": null,
   "id": "e0874e07-e104-4ca4-af1c-b8be936b0237",
   "metadata": {},
   "outputs": [],
   "source": [
    "1. What are the three measures of central tendency?\n",
    "ans :- The three measures of central tendency are Mean , Median , Mode."
   ]
  },
  {
   "cell_type": "code",
   "execution_count": null,
   "id": "b1bc3665-7609-47d9-a4a7-df528fb6f244",
   "metadata": {},
   "outputs": [],
   "source": [
    "2. What is the difference between the mean , median , mode? How are they used to measure the central tendency \n",
    "   of a dataset?\n",
    "ans :- The mode is the most frequent value. The median is the middle number in an ordered data set. The mean is\n",
    "       the sum of all values divided by the total number of values."
   ]
  },
  {
   "cell_type": "code",
   "execution_count": null,
   "id": "3cc5c0b7-e0c4-4d9d-9463-9730aae73c9d",
   "metadata": {},
   "outputs": [],
   "source": [
    "3. Measure the three Measures of central tendency for given height data:\n",
    "    [178,177,176,177,178.2,178,175,179,180,175,178.9,176.2,177,172.5,178,176.5]"
   ]
  },
  {
   "cell_type": "code",
   "execution_count": 1,
   "id": "e0d548de-01eb-4370-9b03-234272f034d9",
   "metadata": {},
   "outputs": [],
   "source": [
    "heig=[178,177,176,177,178.2,178,175,179,180,175,178.9,176.2,177,172.5,178,176.5]"
   ]
  },
  {
   "cell_type": "code",
   "execution_count": 2,
   "id": "66132ee4-fb65-43be-8ca3-0ebbc498baca",
   "metadata": {},
   "outputs": [],
   "source": [
    "import numpy as np"
   ]
  },
  {
   "cell_type": "code",
   "execution_count": 3,
   "id": "e711d2df-70d2-4b4b-af7b-68a05bec4c13",
   "metadata": {},
   "outputs": [
    {
     "data": {
      "text/plain": [
       "177.01875"
      ]
     },
     "execution_count": 3,
     "metadata": {},
     "output_type": "execute_result"
    }
   ],
   "source": [
    "## mean\n",
    "np.mean(heig)"
   ]
  },
  {
   "cell_type": "code",
   "execution_count": 4,
   "id": "52dbfa25-d84e-4d12-ac71-0fb6012829d2",
   "metadata": {},
   "outputs": [
    {
     "data": {
      "text/plain": [
       "177.0"
      ]
     },
     "execution_count": 4,
     "metadata": {},
     "output_type": "execute_result"
    }
   ],
   "source": [
    "##median\n",
    "np.median(heig)"
   ]
  },
  {
   "cell_type": "code",
   "execution_count": 6,
   "id": "f3c996e7-2619-4663-ae64-6c8a88ff32b8",
   "metadata": {},
   "outputs": [],
   "source": [
    "from scipy import stats"
   ]
  },
  {
   "cell_type": "code",
   "execution_count": 8,
   "id": "296b62dc-f4ba-4e3f-9811-408517126401",
   "metadata": {},
   "outputs": [
    {
     "name": "stderr",
     "output_type": "stream",
     "text": [
      "/tmp/ipykernel_77/2418499896.py:1: FutureWarning: Unlike other reduction functions (e.g. `skew`, `kurtosis`), the default behavior of `mode` typically preserves the axis it acts along. In SciPy 1.11.0, this behavior will change: the default value of `keepdims` will become False, the `axis` over which the statistic is taken will be eliminated, and the value None will no longer be accepted. Set `keepdims` to True or False to avoid this warning.\n",
      "  stats.mode(heig)\n"
     ]
    },
    {
     "data": {
      "text/plain": [
       "ModeResult(mode=array([177.]), count=array([3]))"
      ]
     },
     "execution_count": 8,
     "metadata": {},
     "output_type": "execute_result"
    }
   ],
   "source": [
    "stats.mode(heig)"
   ]
  },
  {
   "cell_type": "code",
   "execution_count": null,
   "id": "82598e45-04ce-41ee-8c6c-04c3c0d15f67",
   "metadata": {},
   "outputs": [],
   "source": [
    "4. Find the standard deviation for given data heigh."
   ]
  },
  {
   "cell_type": "code",
   "execution_count": 9,
   "id": "85f095c6-36a0-4001-b445-3fabf015756f",
   "metadata": {},
   "outputs": [
    {
     "data": {
      "text/plain": [
       "1.7885814036548633"
      ]
     },
     "execution_count": 9,
     "metadata": {},
     "output_type": "execute_result"
    }
   ],
   "source": [
    "np.std(heig)"
   ]
  },
  {
   "cell_type": "code",
   "execution_count": null,
   "id": "f7fbb161-ccaf-4a86-b462-2208803be3de",
   "metadata": {},
   "outputs": [],
   "source": [
    "5. How are measures of dispersion such as range,variance and standard deviation used to describe the spread of a dataset?\n",
    "   provide an exampe.\n",
    "ans :- Range, variance, and standard deviation all measure the spread or variability of a data set in different ways. \n",
    "       The range is easy to calculate—it's \n",
    "       the difference between the largest and smallest data points in a set.Standard deviation is the square root of the variance.\n",
    "       Standard deviation is a measure of how spread out the data is from its mean."
   ]
  },
  {
   "cell_type": "code",
   "execution_count": null,
   "id": "6a1c1349-ed7c-40d4-8f46-cac57767a30d",
   "metadata": {},
   "outputs": [],
   "source": [
    "6. What is Venn Diagram?\n",
    "ans :- A Venn diagram is a visual representation of the similarities and differences between two or more items.\n",
    "       It uses circles to show the relationships between things or groups of things. Circles that overlap have\n",
    "       a commonality, while circles that do not overlap do not share those traits. \n"
   ]
  },
  {
   "cell_type": "code",
   "execution_count": null,
   "id": "750f5d67-bbb3-4fdd-8c22-273b0d7cfacb",
   "metadata": {},
   "outputs": [],
   "source": [
    "7. For the two given sets A=(2,3,4,5,6,7) & B=(0,2,6,8,10). find\n",
    "  (a). A interscton B \n",
    "   ans :- (2,6)\n",
    "  (b). A intersection B\n",
    "   ans :- (0,2,3,4,5,6,7,8,10)"
   ]
  },
  {
   "cell_type": "code",
   "execution_count": null,
   "id": "14201b9e-ff7e-43f2-958e-6fff0ad64c08",
   "metadata": {},
   "outputs": [],
   "source": [
    "8. What do you understand about skewness in data?\n",
    "ans :- Skewness is a measure of how far a distribution deviates from a normal distribution.It's a twist or irregularity\n",
    "        in a set of data that diverges from the symmetrical bell curve."
   ]
  },
  {
   "cell_type": "code",
   "execution_count": null,
   "id": "c2d6b4ca-ce42-4ea0-84e4-39efcfdf88f2",
   "metadata": {},
   "outputs": [],
   "source": [
    "9. If a data is right skewed then what will be the position of median with respect to mean.\n",
    "ans :- If the data is right skewed then its peak was in left side. thatshwhy it form Mean>Medain>Mode.\n",
    "       So position of the median is less than mean."
   ]
  },
  {
   "cell_type": "code",
   "execution_count": null,
   "id": "1d2a3ccd-cf36-4365-95aa-517d6e450498",
   "metadata": {},
   "outputs": [],
   "source": [
    "10. Explain difference between covaraince and correaltion. How are these measured using statistical techniques.\n",
    "ans. Put simply, both covariance and correlation measure the relationship and the dependency between two variables.\n",
    "     Covariance indicates the direction of the linear relationship between variables while correlation measures both \n",
    "     the strength and direction of the linear relationship between two variables. Correlation is a function of the covariance. "
   ]
  },
  {
   "cell_type": "code",
   "execution_count": null,
   "id": "6bed591f-91e2-4774-ad60-13a87e0c7ffc",
   "metadata": {},
   "outputs": [],
   "source": [
    "11. What is the formula for calculating sample mean? Provide an example calculation for a dataset.\n",
    "ans :- The sample mean is a measure of central tendency that is calculated by adding up all the values in a dataset and \n",
    "       dividing by the number of values in the dataset. The formula for calculating sample mean is x̄ = ( Σ xi ) / n, where x̄ \n",
    "       represents the sample mean, xi refers to all sample values and n stands for the number of sample terms in the data set.\n",
    "        For example, if you have the following dataset: {1, 2, 3, 4, 5}, the sample mean would be calculated as (1 + 2 + 3 + 4 + 5) / 5 = 3."
   ]
  },
  {
   "cell_type": "code",
   "execution_count": null,
   "id": "81108f6e-6c21-4603-b5b6-ec628acfd1a4",
   "metadata": {},
   "outputs": [],
   "source": [
    "12. For a normal distribution data what is the relationship between its measures of central tendency?\n",
    "ans :- In a normal distribution, the measures of central tendency—mean, median, and mode—are all equal. \n",
    "       This is a unique property of a normal distribution and is one of the reasons why the normal distribution\n",
    "       is often used in statistical analysis."
   ]
  },
  {
   "cell_type": "code",
   "execution_count": null,
   "id": "4ed50b05-4022-404c-ace3-7102e99df3f1",
   "metadata": {},
   "outputs": [],
   "source": [
    "13. How is covaraince is different from correlation.\n",
    "ans :- In a normal distribution, the measures of central tendency—mean, median, and mode—are all equal. This is a\n",
    "       unique property of a normal distribution and is one of the reasons why the normal distribution is often used\n",
    "       in statistical analysis."
   ]
  },
  {
   "cell_type": "code",
   "execution_count": null,
   "id": "a51bdca3-4277-48ac-bd88-e9e89652eb12",
   "metadata": {},
   "outputs": [],
   "source": [
    "14. How do outliers affect measures of central tendency and dispersion? Provide an example\n",
    "ans :- Outliers can have a significant impact on measures of central tendency (mean, median, and mode) and dispersion\n",
    "       (range, variance, and standard deviation). Here's how outliers can affect these measures, along with an example:\n",
    "\n",
    "    1. Mean:\n",
    "   - Effect: Outliers can heavily influence the mean, pulling it toward extreme values. A single very large or very small \n",
    "             observation can skew the mean in the direction of the outlier.\n",
    "   - Example: Consider the following dataset: 10, 12, 14, 15, 16, 18, 20, 21, 22, 100. The mean without the outlier is 16.4, but with \n",
    "              the outlier, it becomes 28.8.\n",
    "\n",
    "    2. Median:\n",
    "   - Effect: The median is less affected by outliers than the mean. Outliers don't influence the median as much because it is not\n",
    "             based on the actual values but on their order.\n",
    "   - Example: Using the same dataset, the median is 17 without the outlier and remains the same even with the outlier.\n",
    "\n",
    "    3. Mode:\n",
    "   - Effect: Like the median, the mode is resistant to the influence of outliers because it is based on frequencies rather than the\n",
    "             values themselves.\n",
    "   - Example: The mode of the dataset is 16, and it remains 16 even with the outlier.\n",
    "\n",
    "    4. Range:\n",
    "   - Effect: Outliers can greatly affect the range, which is the difference between the maximum and minimum values. The range \n",
    "             can become disproportionately large due to outliers.\n",
    "   - Example: In the dataset mentioned earlier, the range without the outlier is 12, but with the outlier, it becomes 90.\n",
    "  \n",
    "    5. Variance and Standard Deviation:\n",
    "   - Effect: Outliers can significantly impact variance and standard deviation since these measures are sensitive to the distances\n",
    "             between individual data points and the mean.\n",
    "   - Example: Without the outlier, the variance is 20.44, but with the outlier, it increases to 778.4. The standard deviation also\n",
    "              shows a substantial increase.\n",
    "    \n",
    "     It's important to be aware of the potential impact of outliers on statistical measures. Depending on the context and the goals\n",
    "    of your analysis, you may choose to handle outliers by removing them or using robust statistical measures that are less sensitive to extreme values."
   ]
  }
 ],
 "metadata": {
  "kernelspec": {
   "display_name": "Python 3 (ipykernel)",
   "language": "python",
   "name": "python3"
  },
  "language_info": {
   "codemirror_mode": {
    "name": "ipython",
    "version": 3
   },
   "file_extension": ".py",
   "mimetype": "text/x-python",
   "name": "python",
   "nbconvert_exporter": "python",
   "pygments_lexer": "ipython3",
   "version": "3.10.8"
  }
 },
 "nbformat": 4,
 "nbformat_minor": 5
}
